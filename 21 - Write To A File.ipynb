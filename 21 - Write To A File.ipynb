{
 "cells": [
  {
   "cell_type": "markdown",
   "id": "3247d888",
   "metadata": {},
   "source": [
    "**Take the code from the How To Decode A Website exercise (exercise 17 or 19), and instead of printing the results to a screen, write the results to a txt file. In your code, just make up a name for the file you are saving to.**\n",
    "\n",
    "**Ask the user to specify the name of the output file that will be saved.**"
   ]
  },
  {
   "cell_type": "code",
   "execution_count": 45,
   "id": "158a0860",
   "metadata": {},
   "outputs": [
    {
     "name": "stdout",
     "output_type": "stream",
     "text": [
      "108\n"
     ]
    }
   ],
   "source": [
    "# Importing requests and BeautifulSoup to work with websites\n",
    "import requests\n",
    "from bs4 import BeautifulSoup\n",
    "\n",
    "\n",
    "# Getting website structure (html) from New York Times using requests\n",
    "url = \"https://www.nytimes.com/\"\n",
    "r = requests.get(url)\n",
    "r_html = r.text\n",
    "\n",
    "\n",
    "# Using BeautifulSoup to parse the html text from requests\n",
    "soup = BeautifulSoup(r_html, 'html.parser')\n",
    "\n",
    "\n",
    "# Gets headlines from h3 tag, but includes non-headlines like authors' names\n",
    "headlines = soup.find_all('h3')\n",
    "headlines_list = []\n",
    "print(len(headlines))\n",
    "for i in headlines[::]:\n",
    "    headlines_list.append(i.text.strip())"
   ]
  },
  {
   "cell_type": "code",
   "execution_count": 46,
   "id": "81f580eb",
   "metadata": {},
   "outputs": [
    {
     "name": "stdout",
     "output_type": "stream",
     "text": [
      "What do you want to name the file? \n"
     ]
    }
   ],
   "source": [
    "# Asking user for name of the file. Default is \"nyt_headlines\"\n",
    "file_name = input(\"What do you want to name the file? \") or \"nyt_headlines\"\n",
    "\n",
    "\n",
    "# Creates .txt file and inputs each element in headlines list in a new line. Saves to current directory (Practice Python)\n",
    "with open(file_name+\".txt\", \"w\") as open_file:\n",
    "    for element in headlines_list:\n",
    "        open_file.write(\"Headline: \" + element+\"\\n\")"
   ]
  }
 ],
 "metadata": {
  "kernelspec": {
   "display_name": "Python 3",
   "language": "python",
   "name": "python3"
  },
  "language_info": {
   "codemirror_mode": {
    "name": "ipython",
    "version": 3
   },
   "file_extension": ".py",
   "mimetype": "text/x-python",
   "name": "python",
   "nbconvert_exporter": "python",
   "pygments_lexer": "ipython3",
   "version": "3.8.8"
  }
 },
 "nbformat": 4,
 "nbformat_minor": 5
}
