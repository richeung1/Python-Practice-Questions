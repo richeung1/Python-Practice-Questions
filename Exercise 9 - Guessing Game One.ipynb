{
 "cells": [
  {
   "cell_type": "markdown",
   "id": "dfb2a486",
   "metadata": {},
   "source": [
    "**Generate a random number between 1 and 9 (including 1 and 9). Ask the user to guess the number, then tell them whether they guessed too low, too high, or exactly right.**\n",
    "\n",
    "**Keep the game going until the user types “exit”**\n",
    "\n",
    "**Keep track of how many guesses the user has taken, and when the game ends, print this out.**"
   ]
  },
  {
   "cell_type": "code",
   "execution_count": 37,
   "id": "b2279338",
   "metadata": {},
   "outputs": [
    {
     "name": "stdout",
     "output_type": "stream",
     "text": [
      "3\n",
      "Guess a number between 1 and 9 (including 1 and 9): 3\n",
      "You are correct! It took you 1 guesses!\n",
      "Type 'exit' to end the game. Otherwise type anything to continue.exit\n"
     ]
    }
   ],
   "source": [
    "# Importing random module and creating a random number 1 - 9\n",
    "import random\n",
    "number = random.randint(1, 9)\n",
    "print(number)\n",
    "\n",
    "\n",
    "# Get user's first guess\n",
    "guess = int(input(\"Guess a number between 1 and 9 (including 1 and 9): \"))\n",
    "\n",
    "\n",
    "# Creating variable named counter to keep track of number of guesses\n",
    "counter = 0\n",
    "\n",
    "\n",
    "# While loop for comparing guesses to random number, printing number of guesses, and asking to play again\n",
    "while True:\n",
    "    if guess == number:\n",
    "        counter += 1\n",
    "        print(\"You are correct! It took you \" + str(counter) + \" guesses!\")\n",
    "        restart = input(\"Type 'exit' to end the game. Otherwise type anything to continue.\")\n",
    "        if restart == \"exit\":\n",
    "            break\n",
    "        else: \n",
    "            number = random.randint(1, 9)\n",
    "            counter = 0\n",
    "            guess = int(input(\"New game! Guess a number between 1 and 9 (including 1 and 9): \")) \n",
    "    elif guess > number:\n",
    "        counter += 1\n",
    "        print(\"Your guess was too high. Please try again.\")\n",
    "        guess = int(input(\"Guess again: \"))\n",
    "    elif guess < number:\n",
    "        counter += 1\n",
    "        print(\"Your guess was too low. Please try again.\")\n",
    "        guess = int(input(\"Guess again: \"))\n",
    "    else:\n",
    "        print(\"Invalid. Please try again.\")"
   ]
  }
 ],
 "metadata": {
  "kernelspec": {
   "display_name": "Python 3",
   "language": "python",
   "name": "python3"
  },
  "language_info": {
   "codemirror_mode": {
    "name": "ipython",
    "version": 3
   },
   "file_extension": ".py",
   "mimetype": "text/x-python",
   "name": "python",
   "nbconvert_exporter": "python",
   "pygments_lexer": "ipython3",
   "version": "3.8.8"
  }
 },
 "nbformat": 4,
 "nbformat_minor": 5
}
