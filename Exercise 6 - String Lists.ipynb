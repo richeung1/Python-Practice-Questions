{
 "cells": [
  {
   "cell_type": "markdown",
   "id": "77249c21",
   "metadata": {},
   "source": [
    "**Ask the user for a string and print out whether this string is a palindrome or not. (A palindrome is a string that reads the same forwards and backwards.)**"
   ]
  },
  {
   "cell_type": "code",
   "execution_count": 96,
   "id": "f9e35324",
   "metadata": {},
   "outputs": [
    {
     "name": "stdout",
     "output_type": "stream",
     "text": [
      "Enter a string: RACE CAR\n",
      "racecar\n",
      "racecar is a palindrome!\n"
     ]
    }
   ],
   "source": [
    "string = input(\"Enter a string: \")\n",
    "string_lower = string.lower()\n",
    "string_lower_nospace = string_lower.replace(\" \", \"\")\n",
    "print(string_lower_nospace)\n",
    "\n",
    "\n",
    "if string_lower_nospace == string_lower_nospace[::-1]:\n",
    "    print(string_lower_nospace + \" is a palindrome!\")\n",
    "else:\n",
    "    print(string_lower_nospace + \" is not a palindrome!\")"
   ]
  }
 ],
 "metadata": {
  "kernelspec": {
   "display_name": "Python 3",
   "language": "python",
   "name": "python3"
  },
  "language_info": {
   "codemirror_mode": {
    "name": "ipython",
    "version": 3
   },
   "file_extension": ".py",
   "mimetype": "text/x-python",
   "name": "python",
   "nbconvert_exporter": "python",
   "pygments_lexer": "ipython3",
   "version": "3.8.8"
  }
 },
 "nbformat": 4,
 "nbformat_minor": 5
}
