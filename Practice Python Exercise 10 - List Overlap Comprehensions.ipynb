{
 "cells": [
  {
   "cell_type": "markdown",
   "id": "4581a9cc",
   "metadata": {},
   "source": [
    "**Take two lists, say for example these two:**\n",
    "\n",
    "a = [1, 1, 2, 3, 5, 8, 13, 21, 34, 55, 89]  \n",
    "\n",
    "b = [1, 2, 3, 4, 5, 6, 7, 8, 9, 10, 11, 12, 13]\n",
    "    \n",
    "**and write a program that returns a list that contains only the elements that are common between the lists (without duplicates). Make sure your program works on two lists of different sizes. Write this using at least one list comprehension.**\n",
    "\n",
    "**Randomly generate two lists to test this**"
   ]
  },
  {
   "cell_type": "code",
   "execution_count": 100,
   "id": "9415436f",
   "metadata": {},
   "outputs": [
    {
     "name": "stdout",
     "output_type": "stream",
     "text": [
      "a = [1, 1, 2, 3, 5, 8, 13, 21, 34, 55, 89]\n",
      "b = [1, 2, 3, 4, 5, 6, 7, 8, 9, 10, 11, 12, 13]\n",
      "Common = [1, 2, 3, 5, 8, 13]\n",
      "c = [2, 4, 5, 10, 11, 13, 15, 16, 19]\n",
      "d = [2, 3, 4, 5, 9, 10, 13, 14, 15, 18, 19]\n",
      "Common = [2, 4, 5, 10, 13, 15, 19]\n"
     ]
    }
   ],
   "source": [
    "# Creating 2 initial lists and printing them\n",
    "a = [1, 1, 2, 3, 5, 8, 13, 21, 34, 55, 89]\n",
    "b = [1, 2, 3, 4, 5, 6, 7, 8, 9, 10, 11, 12, 13]\n",
    "\n",
    "print(\"a = \" + str(a))\n",
    "print(\"b = \" + str(b))\n",
    "\n",
    "\n",
    "# Using set to remove duplicates from both lists and then converting sets back to list to sort in ascending order\n",
    "a_no_duplicates = list(set(a))\n",
    "a_no_duplicates.sort()\n",
    "\n",
    "b_no_duplicates = list(set(b))\n",
    "b_no_duplicates.sort()\n",
    "\n",
    "\n",
    "# List comprehension to find elements that are common between both lists without duplicates\n",
    "common = [i for i in a_no_duplicates if i in b_no_duplicates]\n",
    "print(\"Common = \" + str(common))\n",
    "\n",
    "# ------------------------------------------------------------------------------------------------------------------- #\n",
    "\n",
    "# Importing random module to generate 2 random lists\n",
    "import random\n",
    "\n",
    "c = random.sample(range(1, 20), random.randint(1, 15))\n",
    "c.sort()\n",
    "print(\"c = \" + str(c))\n",
    "\n",
    "d = random.sample(range(1, 20), random.randin`t(1, 15))\n",
    "d.sort()\n",
    "print(\"d = \" + str(d))\n",
    "\n",
    "\n",
    "# Using set to remove duplicates from both lists and then converting sets back to list to sort in ascending order\n",
    "c_no_duplicates = list(set(c))\n",
    "c_no_duplicates.sort()\n",
    "\n",
    "d_no_duplicates = list(set(d))\n",
    "d_no_duplicates.sort()\n",
    "\n",
    "\n",
    "# List comprehension to find elements that are common between both lists without duplicates\n",
    "common = [i for i in c_no_duplicates if i in d_no_duplicates]\n",
    "print(\"Common = \" + str(common))"
   ]
  }
 ],
 "metadata": {
  "kernelspec": {
   "display_name": "Python 3",
   "language": "python",
   "name": "python3"
  },
  "language_info": {
   "codemirror_mode": {
    "name": "ipython",
    "version": 3
   },
   "file_extension": ".py",
   "mimetype": "text/x-python",
   "name": "python",
   "nbconvert_exporter": "python",
   "pygments_lexer": "ipython3",
   "version": "3.8.8"
  }
 },
 "nbformat": 4,
 "nbformat_minor": 5
}
