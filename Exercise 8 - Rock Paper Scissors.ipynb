{
 "cells": [
  {
   "cell_type": "markdown",
   "id": "a8337856",
   "metadata": {},
   "source": [
    "**Make a two-player Rock-Paper-Scissors game. (Hint: Ask for player plays (using input), compare them, print out a message of congratulations to the winner, and ask if the players want to start a new game)**\n",
    "\n",
    "**Remember the rules:**\n",
    "\n",
    "1. Rock beats scissors\n",
    "\n",
    "2. Scissors beats paper  \n",
    "\n",
    "3. Paper beats rock"
   ]
  },
  {
   "cell_type": "code",
   "execution_count": 37,
   "id": "d4068737",
   "metadata": {},
   "outputs": [
    {
     "name": "stdout",
     "output_type": "stream",
     "text": [
      "Player 1 please pick Rock, Paper, or Scissors: Rock\n",
      "Player 2 please pick Rock, Paper, or Scissors: Scissors\n",
      "Rock beats Scissors! Player 1 wins!\n",
      "Would you like to play again? (y/n) n\n",
      "Thanks for playing!\n"
     ]
    }
   ],
   "source": [
    "# While loop to start Rock Paper Scissors game\n",
    "while True:    \n",
    "\n",
    "    # Getting players' inputs\n",
    "    player1 = str(input(\"Player 1 please pick Rock, Paper, or Scissors: \")).lower()\n",
    "    player2 = str(input(\"Player 2 please pick Rock, Paper, or Scissors: \")).lower()\n",
    "\n",
    "    \n",
    "    # Conditions of victory for Rock, Paper, Scissors\n",
    "    if player1 == \"rock\" and player2 == \"rock\":\n",
    "        print(\"It's a tie!\")\n",
    "    elif player1 == \"rock\" and player2 == \"paper\":\n",
    "        print(\"Paper beats Rock! Player 2 wins!\")\n",
    "    elif player1 == \"rock\" and player2 == \"scissors\":\n",
    "        print(\"Rock beats Scissors! Player 1 wins!\")\n",
    "    elif player1 == \"paper\" and player2 == \"rock\":\n",
    "        print(\"Paper beats Rock! Player 1 wins!\")\n",
    "    elif player1 == \"paper\" and player2 == \"paper\":\n",
    "        print(\"It's a tie!\")\n",
    "    elif player1 == \"paper\" and player2 == \"scissors\":\n",
    "        print(\"Scissors beats Paper! Player 2 wins!\")\n",
    "    elif player1 == \"scissors\" and player2 == \"rock\":\n",
    "        print(\"Rock beats Scissors! Player 2 wins!\")\n",
    "    elif player1 == \"scissors\" and player2 == \"paper\":\n",
    "        print(\"Scissors beats Paper! Player 1 wins!\")\n",
    "    elif player1 == \"scissors\" and player2 == \"scissors\":\n",
    "        print(\"It's a tie!\")\n",
    "    else: \n",
    "        print(\"Invalid input please restart.\")\n",
    "\n",
    "        \n",
    "    # Asking players if they want to play again    \n",
    "    restart = str(input(\"Would you like to play again? (y/n) \")).lower()\n",
    "    if restart.startswith('n'):\n",
    "        print(\"Thanks for playing!\")\n",
    "        break"
   ]
  }
 ],
 "metadata": {
  "kernelspec": {
   "display_name": "Python 3",
   "language": "python",
   "name": "python3"
  },
  "language_info": {
   "codemirror_mode": {
    "name": "ipython",
    "version": 3
   },
   "file_extension": ".py",
   "mimetype": "text/x-python",
   "name": "python",
   "nbconvert_exporter": "python",
   "pygments_lexer": "ipython3",
   "version": "3.8.8"
  }
 },
 "nbformat": 4,
 "nbformat_minor": 5
}
