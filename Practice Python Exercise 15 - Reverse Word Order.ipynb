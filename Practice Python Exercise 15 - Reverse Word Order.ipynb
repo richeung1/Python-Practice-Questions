{
 "cells": [
  {
   "cell_type": "markdown",
   "id": "2470b5e0",
   "metadata": {},
   "source": [
    "**Write a program (using functions!) that asks the user for a long string containing multiple words. Print back to the user the same string, except with the words in backwards order.**"
   ]
  },
  {
   "cell_type": "code",
   "execution_count": 26,
   "id": "e04e3f16",
   "metadata": {},
   "outputs": [
    {
     "name": "stdout",
     "output_type": "stream",
     "text": [
      "Enter a sentence: My name is John Doe and I like burgers\n"
     ]
    },
    {
     "data": {
      "text/plain": [
       "'burgers like I and Doe John is name My'"
      ]
     },
     "execution_count": 26,
     "metadata": {},
     "output_type": "execute_result"
    }
   ],
   "source": [
    "def reverse_word_order():\n",
    "    text = input(\"Enter a sentence: \")\n",
    "    \n",
    "    splitstring = text.split()\n",
    "    \n",
    "    reversestring = splitstring[::-1]\n",
    "    \n",
    "    return\" \".join(reversestring)\n",
    "\n",
    "reverse_word_order()"
   ]
  }
 ],
 "metadata": {
  "kernelspec": {
   "display_name": "Python 3",
   "language": "python",
   "name": "python3"
  },
  "language_info": {
   "codemirror_mode": {
    "name": "ipython",
    "version": 3
   },
   "file_extension": ".py",
   "mimetype": "text/x-python",
   "name": "python",
   "nbconvert_exporter": "python",
   "pygments_lexer": "ipython3",
   "version": "3.8.8"
  }
 },
 "nbformat": 4,
 "nbformat_minor": 5
}
