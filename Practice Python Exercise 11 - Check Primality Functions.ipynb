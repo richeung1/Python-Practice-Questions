{
 "cells": [
  {
   "cell_type": "markdown",
   "id": "b72058fc",
   "metadata": {},
   "source": [
    "**Ask the user for a number and determine whether the number is prime or not.**"
   ]
  },
  {
   "cell_type": "code",
   "execution_count": 115,
   "id": "239344ed",
   "metadata": {},
   "outputs": [
    {
     "name": "stdout",
     "output_type": "stream",
     "text": [
      "Enter a number: 23\n",
      "Factors for 23: [1, 23]\n",
      "23 is a prime number!\n"
     ]
    }
   ],
   "source": [
    "# Creating function to ask user to input a number\n",
    "def check_prime(text = \"Enter a number: \"):\n",
    "    return int(input(text))\n",
    "\n",
    "\n",
    "# Calling function and putting user's number into variable named num\n",
    "num = check_prime()\n",
    "\n",
    "\n",
    "# Checking factors for num and appending them to a list named factors\n",
    "factors = []\n",
    "for i in range(1, num+1):\n",
    "    if num % i == 0:\n",
    "        factors.append(i)\n",
    "\n",
    "print(\"Factors for \" + str(num) + \": \" + str(factors))\n",
    "\n",
    "\n",
    "# Checking if num is a prime number (factors can only be 1 and num)\n",
    "if num in factors and 1 in factors and len(factors) == 2:\n",
    "    print(str(num) + \" is a prime number!\")\n",
    "else:\n",
    "    print(str(num) + \" is not a prime number!\")"
   ]
  }
 ],
 "metadata": {
  "kernelspec": {
   "display_name": "Python 3",
   "language": "python",
   "name": "python3"
  },
  "language_info": {
   "codemirror_mode": {
    "name": "ipython",
    "version": 3
   },
   "file_extension": ".py",
   "mimetype": "text/x-python",
   "name": "python",
   "nbconvert_exporter": "python",
   "pygments_lexer": "ipython3",
   "version": "3.8.8"
  }
 },
 "nbformat": 4,
 "nbformat_minor": 5
}
