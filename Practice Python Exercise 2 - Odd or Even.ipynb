{
 "cells": [
  {
   "cell_type": "markdown",
   "id": "b807c13e",
   "metadata": {},
   "source": [
    "**Ask the user for a number. Depending on whether the number is even or odd, print out an appropriate message to the user.**\n",
    "\n",
    "**If the number is a multiple of 4, print out a different message.**\n",
    "\n",
    "**Ask the user for two numbers: one number to check (call it num) and one number to divide by (check). If check divides evenly into num, tell that to the user. If not, print a different appropriate message.**"
   ]
  },
  {
   "cell_type": "code",
   "execution_count": 44,
   "id": "4598b57b",
   "metadata": {
    "scrolled": true
   },
   "outputs": [
    {
     "name": "stdout",
     "output_type": "stream",
     "text": [
      "Please enter a number.\n",
      "20\n",
      "20 is an even number!\n",
      "20 is a multiple of 4!\n",
      "Please enter your first number.\n",
      "20\n",
      "Please enter a number you want to divide the first number by.\n",
      "4\n",
      "4 divides evenly into 20!\n"
     ]
    }
   ],
   "source": [
    "# Ask the user to input a number\n",
    "print(\"Please enter a number.\")\n",
    "number = int(input())\n",
    "\n",
    "\n",
    "# Check if user's number is odd or even and then return message\n",
    "if number % 2 > 0:\n",
    "    print(str(number) + \" is an odd number!\")\n",
    "else:\n",
    "    print(str(number) + \" is an even number!\")\n",
    "    \n",
    "    \n",
    "# Check if user's number is a multiple of 4\n",
    "if number % 4 > 0:\n",
    "    print(str(number) + \" is not a multiple of 4!\")\n",
    "else:\n",
    "    print(str(number) + \" is a multiple of 4!\")\n",
    "    \n",
    "\n",
    "# Ask user for first number then second number to divide by\n",
    "print(\"Please enter your first number.\")\n",
    "num = input()\n",
    "print(\"Please enter a number you want to divide the first number by.\")\n",
    "check = input()\n",
    "\n",
    "\n",
    "# See if check divides evenly into num\n",
    "if int(num) % int(check) > 0:\n",
    "    print(check + \" does not divide evenly into \" + num + \"!\")\n",
    "else:\n",
    "    print(check + \" divides evenly into \" + num + \"!\")"
   ]
  }
 ],
 "metadata": {
  "kernelspec": {
   "display_name": "Python 3",
   "language": "python",
   "name": "python3"
  },
  "language_info": {
   "codemirror_mode": {
    "name": "ipython",
    "version": 3
   },
   "file_extension": ".py",
   "mimetype": "text/x-python",
   "name": "python",
   "nbconvert_exporter": "python",
   "pygments_lexer": "ipython3",
   "version": "3.8.8"
  }
 },
 "nbformat": 4,
 "nbformat_minor": 5
}
