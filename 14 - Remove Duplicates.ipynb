{
 "cells": [
  {
   "cell_type": "markdown",
   "id": "2dca57e0",
   "metadata": {},
   "source": [
    "**Write a program (function!) that takes a list and returns a new list that contains all the elements of the first list minus all the duplicates.**\n",
    "\n",
    "**Write two different functions to do this - one using a loop and constructing a list, and another using sets.**\n",
    "\n",
    "**Go back and do Exercise 5 using sets, and write the solution for that in a different function.**"
   ]
  },
  {
   "cell_type": "code",
   "execution_count": 19,
   "id": "732cd95f",
   "metadata": {},
   "outputs": [],
   "source": [
    "# Creating a list with duplicate elements\n",
    "a = [1, 1, 1, 1, 2, 3, 4, 4, 5, 'a', 'a', 'b']"
   ]
  },
  {
   "cell_type": "code",
   "execution_count": 21,
   "id": "216e054f",
   "metadata": {},
   "outputs": [
    {
     "data": {
      "text/plain": [
       "[1, 2, 3, 4, 5, 'a', 'b']"
      ]
     },
     "execution_count": 21,
     "metadata": {},
     "output_type": "execute_result"
    }
   ],
   "source": [
    "# Function using for loop to remove duplicates annd return new list\n",
    "def remove_duplicates_forloop(a_list):\n",
    "    new_list = []\n",
    "    for element in a_list:\n",
    "        if element not in new_list:\n",
    "            new_list.append(element)\n",
    "    return new_list\n",
    "\n",
    "\n",
    "remove_duplicates_forloop(a)"
   ]
  },
  {
   "cell_type": "code",
   "execution_count": 20,
   "id": "7141f752",
   "metadata": {},
   "outputs": [
    {
     "data": {
      "text/plain": [
       "[1, 2, 3, 4, 5, 'a', 'b']"
      ]
     },
     "execution_count": 20,
     "metadata": {},
     "output_type": "execute_result"
    }
   ],
   "source": [
    "# Function using sets to remove duplicates and return new list\n",
    "def remove_duplicates_set(a_list):\n",
    "    return list(set(a_list))\n",
    "\n",
    "remove_duplicates_set(a)"
   ]
  }
 ],
 "metadata": {
  "kernelspec": {
   "display_name": "Python 3",
   "language": "python",
   "name": "python3"
  },
  "language_info": {
   "codemirror_mode": {
    "name": "ipython",
    "version": 3
   },
   "file_extension": ".py",
   "mimetype": "text/x-python",
   "name": "python",
   "nbconvert_exporter": "python",
   "pygments_lexer": "ipython3",
   "version": "3.8.8"
  }
 },
 "nbformat": 4,
 "nbformat_minor": 5
}
