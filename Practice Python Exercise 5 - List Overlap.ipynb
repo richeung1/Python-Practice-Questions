{
 "cells": [
  {
   "cell_type": "markdown",
   "id": "0e933cc8",
   "metadata": {},
   "source": [
    "**Take two lists, say for example these two:**  \n",
    "\n",
    "a = [1, 1, 2, 3, 5, 8, 13, 21, 34, 55, 89]  \n",
    "\n",
    "b = [1, 2, 3, 4, 5, 6, 7, 8, 9, 10, 11, 12, 13]  \n",
    "\n",
    "**and write a program that returns a list that contains only the elements that are common between the lists (without duplicates). Make sure your program works on two lists of different sizes.**\n",
    "\n",
    "**Randomly generate two lists to test this**\n",
    "\n",
    "**Write this in one line of Python (don’t worry if you can’t figure this out at this point - we’ll get to it soon)**"
   ]
  },
  {
   "cell_type": "code",
   "execution_count": 250,
   "id": "4a456a40",
   "metadata": {},
   "outputs": [
    {
     "name": "stdout",
     "output_type": "stream",
     "text": [
      "[1, 2, 3, 5, 8, 13]\n"
     ]
    }
   ],
   "source": [
    "# Creating 2 lists\n",
    "a = [1, 1, 2, 3, 5, 8, 13, 21, 34, 55, 89]\n",
    "b = [1, 2, 3, 4, 5, 6, 7, 8, 9, 10, 11, 12, 13]\n",
    "\n",
    "\n",
    "# Checking if there are same elements between both lists and appending them to a new list named common\n",
    "common = []\n",
    "for i in a:\n",
    "    if i in b:\n",
    "        common.append(i)\n",
    "# print(common)\n",
    "\n",
    "\n",
    "# Converting common list into set to remove duplicates then converting set back into a list to show list with unique values\n",
    "no_duplicates = set(common)\n",
    "print(list(no_duplicates))"
   ]
  },
  {
   "cell_type": "code",
   "execution_count": 290,
   "id": "c4531b00",
   "metadata": {},
   "outputs": [
    {
     "name": "stdout",
     "output_type": "stream",
     "text": [
      "Random List 1: [8]\n",
      "Random List 2: [3, 6, 4, 2, 5]\n",
      "Common Elements: No common elements!\n",
      "Common Elements from 1 line of code: []\n"
     ]
    }
   ],
   "source": [
    "# Importing random\n",
    "import random\n",
    "\n",
    "\n",
    "# Creating 2 random lists of random length from 1 - 10 with random elements from 1 - 10\n",
    "random_list1 = random.sample(range(1, 11), random.randint(1, 10)) \n",
    "print(\"Random List 1:\", random_list1)\n",
    "\n",
    "random_list2 = random.sample(range(1, 11), random.randint(1, 10))\n",
    "print(\"Random List 2:\", random_list2)\n",
    "\n",
    "\n",
    "# Checking if there are same elements between both lists and appending them to a new list named common\n",
    "common = []\n",
    "for i in random_list1:\n",
    "    if i in random_list2:\n",
    "        common.append(i)\n",
    "\n",
    "\n",
    "# Converting common list into set to remove duplicates then converting set back into a list to show list with unique values\n",
    "no_dupes = set(common)\n",
    "list_no_dupes = list(no_dupes)\n",
    "\n",
    "if len(list_no_dupes) == 0:\n",
    "    print(\"Common Elements: No common elements!\")\n",
    "else:\n",
    "    list_no_dupes.sort()\n",
    "    print(\"Common Elements:\", list_no_dupes) \n",
    "    \n",
    "\n",
    "# Using one line of code to create list of common elements between 2 lists\n",
    "print(\"Common Elements from 1 line of code:\", sorted([i for i in random_list1 if i in random_list2]))"
   ]
  }
 ],
 "metadata": {
  "kernelspec": {
   "display_name": "Python 3",
   "language": "python",
   "name": "python3"
  },
  "language_info": {
   "codemirror_mode": {
    "name": "ipython",
    "version": 3
   },
   "file_extension": ".py",
   "mimetype": "text/x-python",
   "name": "python",
   "nbconvert_exporter": "python",
   "pygments_lexer": "ipython3",
   "version": "3.8.8"
  }
 },
 "nbformat": 4,
 "nbformat_minor": 5
}
