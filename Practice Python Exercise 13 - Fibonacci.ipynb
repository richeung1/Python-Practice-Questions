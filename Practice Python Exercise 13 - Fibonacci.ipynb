{
 "cells": [
  {
   "cell_type": "markdown",
   "id": "63562123",
   "metadata": {},
   "source": [
    "**Write a program that asks the user how many Fibonnaci numbers to generate and then generates them. Take this opportunity to think about how you can use functions. Make sure to ask the user to enter the number of numbers in the sequence to generate. (Hint: The Fibonnaci seqence is a sequence of numbers where the next number in the sequence is the sum of the previous two numbers in the sequence. The sequence looks like this: 1, 1, 2, 3, 5, 8, 13, …)**"
   ]
  },
  {
   "cell_type": "code",
   "execution_count": 5,
   "id": "1ebfbfe0",
   "metadata": {},
   "outputs": [
    {
     "name": "stdout",
     "output_type": "stream",
     "text": [
      "How many fibonnaci numbers do you want? 5\n",
      "[1, 1, 2, 3, 5]\n"
     ]
    }
   ],
   "source": [
    "num = int(input(\"How many fibonnaci numbers do you want? \"))\n",
    "\n",
    "i = 1\n",
    "if num == 0:\n",
    "    fib = []\n",
    "elif num == 1:\n",
    "    fib = [1]\n",
    "elif num == 2:\n",
    "    fib = [1, 1]\n",
    "elif num > 2:\n",
    "    fib = [1, 1]\n",
    "    while i < num - 1:\n",
    "        fib.append(fib[i] + fib[i-1])\n",
    "        i += 1\n",
    "print(fib)\n",
    "\n"
   ]
  },
  {
   "cell_type": "code",
   "execution_count": null,
   "id": "f7efc5ca",
   "metadata": {},
   "outputs": [],
   "source": [
    "\n",
    "def fibonacci():\n",
    "    num = int(input(\"How many numbers that generates?:\"))\n",
    "    i = 1\n",
    "    if num == 0:\n",
    "        fib = []\n",
    "    elif num == 1:\n",
    "        fib = [1]\n",
    "    elif num == 2:\n",
    "        fib = [1,1]\n",
    "    elif num > 2:\n",
    "        fib = [1,1]\n",
    "        while i < (num - 1):\n",
    "            fib.append(fib[i] + fib[i-1])\n",
    "            i += 1\n",
    "    return fib\n",
    "print(fibonacci())\n",
    "input()"
   ]
  }
 ],
 "metadata": {
  "kernelspec": {
   "display_name": "Python 3",
   "language": "python",
   "name": "python3"
  },
  "language_info": {
   "codemirror_mode": {
    "name": "ipython",
    "version": 3
   },
   "file_extension": ".py",
   "mimetype": "text/x-python",
   "name": "python",
   "nbconvert_exporter": "python",
   "pygments_lexer": "ipython3",
   "version": "3.8.8"
  }
 },
 "nbformat": 4,
 "nbformat_minor": 5
}
