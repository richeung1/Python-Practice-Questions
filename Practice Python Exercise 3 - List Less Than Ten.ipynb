{
 "cells": [
  {
   "cell_type": "markdown",
   "id": "377cc20e",
   "metadata": {},
   "source": [
    "**Take a list, say for example this one: a = [1, 1, 2, 3, 5, 8, 13, 21, 34, 55, 89] and write a program that prints out all the elements of the list that are less than 5.**\n",
    "\n",
    "**Instead of printing the elements one by one, make a new list that has all the elements less than 5 from this list in it and print out this new list.**\n",
    "\n",
    "**Write this in one line of Python.**\n",
    "\n",
    "**Ask the user for a number and return a list that contains only elements from the original list a that are smaller than that number given by the user.**"
   ]
  },
  {
   "cell_type": "code",
   "execution_count": 49,
   "id": "065c2794",
   "metadata": {},
   "outputs": [
    {
     "name": "stdout",
     "output_type": "stream",
     "text": [
      "1\n",
      "1\n",
      "2\n",
      "3\n",
      "[1, 1, 2, 3]\n",
      "[1, 1, 2, 3]\n",
      "Please enter a number: 45\n",
      "[1, 1, 2, 3, 5, 8, 13, 21, 34]\n"
     ]
    }
   ],
   "source": [
    "# Creating list of numbers\n",
    "a = [1, 1, 2, 3, 5, 8, 13, 21, 34, 55, 89]\n",
    "\n",
    "\n",
    "# Printing all elements in list that are less than 5\n",
    "for element in a:\n",
    "    if element < 5:\n",
    "        print(element)\n",
    "\n",
    "\n",
    "# Printing all elements in list that are less than 5 into a new list\n",
    "new_list = []\n",
    "for element in a:\n",
    "    if element < 5:\n",
    "        new_list.append(element)\n",
    "        new_list.sort()\n",
    "print(new_list)\n",
    "\n",
    "\n",
    "# Writing the above in one line of code\n",
    "print([element for element in a if element<5 ])\n",
    "\n",
    "\n",
    "# Getting user's input number and returning a list with elements that are smaller than user's input number\n",
    "user_number = int(input(\"Please enter a number: \"))\n",
    "user_list = []\n",
    "for element in a:\n",
    "    if element < user_number:\n",
    "        user_list.append(element)\n",
    "        user_list.sort()\n",
    "print(user_list)"
   ]
  },
  {
   "cell_type": "code",
   "execution_count": null,
   "id": "285c3cb8",
   "metadata": {},
   "outputs": [],
   "source": []
  }
 ],
 "metadata": {
  "kernelspec": {
   "display_name": "Python 3",
   "language": "python",
   "name": "python3"
  },
  "language_info": {
   "codemirror_mode": {
    "name": "ipython",
    "version": 3
   },
   "file_extension": ".py",
   "mimetype": "text/x-python",
   "name": "python",
   "nbconvert_exporter": "python",
   "pygments_lexer": "ipython3",
   "version": "3.8.8"
  }
 },
 "nbformat": 4,
 "nbformat_minor": 5
}
