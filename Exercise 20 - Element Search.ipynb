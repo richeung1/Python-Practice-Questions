{
 "cells": [
  {
   "cell_type": "markdown",
   "id": "f6504f7c",
   "metadata": {},
   "source": [
    "**Write a function that takes an ordered list of numbers (a list where the elements are in order from smallest to largest) and another number. The function decides whether or not the given number is inside the list and returns (then prints) an appropriate boolean.**\n",
    "\n",
    "**Use binary search.**"
   ]
  },
  {
   "cell_type": "code",
   "execution_count": 20,
   "id": "707a9ac9",
   "metadata": {},
   "outputs": [
    {
     "data": {
      "text/plain": [
       "False"
      ]
     },
     "execution_count": 20,
     "metadata": {},
     "output_type": "execute_result"
    }
   ],
   "source": [
    "# Function checking if a given number is inside a given ordered list and returns the boolean\n",
    "a = [1, 100, 3, 5, 30, 42, 43, 500]\n",
    "\n",
    "def check_num(a_list, user_num):\n",
    "    a_list.sort()\n",
    "    if user_num in a_list:\n",
    "        return True   \n",
    "    else:\n",
    "        return False\n",
    "    \n",
    "check_num(a, 50)"
   ]
  },
  {
   "cell_type": "code",
   "execution_count": 78,
   "id": "213fc455",
   "metadata": {},
   "outputs": [
    {
     "data": {
      "text/plain": [
       "False"
      ]
     },
     "execution_count": 78,
     "metadata": {},
     "output_type": "execute_result"
    }
   ],
   "source": [
    "# Binary search function\n",
    "def bin_search(a_list, user_num):\n",
    "    beg_index = 0\n",
    "    end_index = len(a_list) - 1\n",
    "\n",
    "    while beg_index <= end_index:\n",
    "        \n",
    "        midpoint = beg_index + (end_index - beg_index) // 2\n",
    "\n",
    "        if user_num == a_list[midpoint]:\n",
    "            return True \n",
    "        elif user_num > a_list[midpoint]:\n",
    "            beg_index = midpoint + 1\n",
    "        else:\n",
    "            end_index = midpoint - 1\n",
    "        \n",
    "    return False\n",
    "\n",
    "a_list = [1, 3, 4, 5, 100, 200, 400]\n",
    "user_num = 2\n",
    "\n",
    "bin_search(a_list, user_num)"
   ]
  }
 ],
 "metadata": {
  "kernelspec": {
   "display_name": "Python 3",
   "language": "python",
   "name": "python3"
  },
  "language_info": {
   "codemirror_mode": {
    "name": "ipython",
    "version": 3
   },
   "file_extension": ".py",
   "mimetype": "text/x-python",
   "name": "python",
   "nbconvert_exporter": "python",
   "pygments_lexer": "ipython3",
   "version": "3.8.8"
  }
 },
 "nbformat": 4,
 "nbformat_minor": 5
}
