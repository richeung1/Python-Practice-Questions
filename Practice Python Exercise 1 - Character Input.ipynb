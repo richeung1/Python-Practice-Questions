{
 "cells": [
  {
   "cell_type": "markdown",
   "id": "1dd4223c",
   "metadata": {},
   "source": [
    "**Excercise 1**\n",
    "- Create a program that asks the user to enter their name and their age. Print out a message addressed to them that tells them the year that they will turn 100 years old.\n",
    "\n",
    "- Add on to the previous program by asking the user for another number and printing out that many copies of the previous message.\n",
    "\n",
    "- Print out that many copies of the previous message on separate line."
   ]
  },
  {
   "cell_type": "code",
   "execution_count": 65,
   "id": "bfb770ec",
   "metadata": {},
   "outputs": [
    {
     "name": "stdout",
     "output_type": "stream",
     "text": [
      "What is your name?\n",
      "John\n",
      "How old are you?\n",
      "50\n",
      "How many copies of the message do you want?\n",
      "10\n",
      "Hi John! You will turn 100 years old in 2072!\n",
      "Hi John! You will turn 100 years old in 2072!\n",
      "Hi John! You will turn 100 years old in 2072!\n",
      "Hi John! You will turn 100 years old in 2072!\n",
      "Hi John! You will turn 100 years old in 2072!\n",
      "Hi John! You will turn 100 years old in 2072!\n",
      "Hi John! You will turn 100 years old in 2072!\n",
      "Hi John! You will turn 100 years old in 2072!\n",
      "Hi John! You will turn 100 years old in 2072!\n",
      "Hi John! You will turn 100 years old in 2072!\n",
      "\n"
     ]
    }
   ],
   "source": [
    "# Getting user's name, age, and number of copies of message\n",
    "print(\"What is your name?\")\n",
    "name = input()\n",
    "\n",
    "print(\"How old are you?\")\n",
    "age = int(input())\n",
    "\n",
    "print(\"How many copies of the message do you want?\")\n",
    "copies = int(input())\n",
    "\n",
    "\n",
    "# Calculating year till user becomes 100 years old\n",
    "current_yr = 2022\n",
    "diff = 100 - age\n",
    "age_100 = current_yr + diff\n",
    "\n",
    "\n",
    "# Printing message and copies of message to tell user the year they will become 100 years old\n",
    "if diff >= 0:\n",
    "    print((\"Hi \" + name + \"! You will turn 100 years old in \" + str(age_100) + \"!\\n\") * copies)\n",
    "else:\n",
    "    print((\"Hi \" + name + \"! You turned 100 years old in \" + str(age_100) + \"!\\n\") * copies)"
   ]
  },
  {
   "cell_type": "markdown",
   "id": "f2c45b11",
   "metadata": {},
   "source": [
    "*Things to improve: add checks to inputs. Check if name is a alphabetical string input. Check if age and copies are integer inputs. If not, write messages that notify user and allow them to retype an input before continuing.*"
   ]
  }
 ],
 "metadata": {
  "kernelspec": {
   "display_name": "Python 3",
   "language": "python",
   "name": "python3"
  },
  "language_info": {
   "codemirror_mode": {
    "name": "ipython",
    "version": 3
   },
   "file_extension": ".py",
   "mimetype": "text/x-python",
   "name": "python",
   "nbconvert_exporter": "python",
   "pygments_lexer": "ipython3",
   "version": "3.8.8"
  }
 },
 "nbformat": 4,
 "nbformat_minor": 5
}
