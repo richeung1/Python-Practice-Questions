{
 "cells": [
  {
   "cell_type": "markdown",
   "id": "1abb6be4",
   "metadata": {},
   "source": [
    "**Create a program that will play the “cows and bulls” game with the user. The game works like this:**\n",
    "\n",
    "**Randomly generate a 4-digit number. Ask the user to guess a 4-digit number. For every digit that the user guessed correctly in the correct place, they have a “cow”. For every digit the user guessed correctly in the wrong place is a “bull.” Every time the user makes a guess, tell them how many “cows” and “bulls” they have. Once the user guesses the correct number, the game is over. Keep track of the number of guesses the user makes throughout the game and tell the user at the end.**"
   ]
  },
  {
   "cell_type": "code",
   "execution_count": 169,
   "id": "5bc2b00e",
   "metadata": {},
   "outputs": [
    {
     "name": "stdout",
     "output_type": "stream",
     "text": [
      "2727\n",
      "Guess the 4-digit number: 2456\n",
      "1 Cows and 0 Bulls!\n",
      "Guess the 4-digit number: 2426\n",
      "2 Cows and 0 Bulls!\n",
      "Guess the 4-digit number: 7272\n",
      "0 Cows and 4 Bulls!\n",
      "Guess the 4-digit number: 7722\n",
      "2 Cows and 2 Bulls!\n",
      "Guess the 4-digit number: 2277\n",
      "2 Cows and 2 Bulls!\n",
      "Guess the 4-digit number: 2727\n",
      "4 Cows and 0 Bulls!\n",
      "You guessed correctly! It took you 6 tries!\n"
     ]
    }
   ],
   "source": [
    "def cows_and_bulls():\n",
    "    import random\n",
    "\n",
    "    digit = random.randint(1000, 9999)\n",
    "    print(digit)\n",
    "\n",
    "    num_guesses = 0\n",
    "    while True:\n",
    "        guess = int(input(\"Guess the 4-digit number: \"))\n",
    "        num_guesses += 1\n",
    "\n",
    "        str_guess = str(guess)\n",
    "        str_digit = str(digit)\n",
    "\n",
    "        cows = 0\n",
    "        bulls = 0\n",
    "\n",
    "        for i in range(4):\n",
    "            if str_guess[i] == str_digit[i]:\n",
    "                cows += 1\n",
    "            if str_guess[i] in str_digit and str_guess[i] != str_digit[i]:\n",
    "                bulls += 1\n",
    "\n",
    "        print(str(cows) + \" Cows and \" + str(bulls) + \" Bulls!\")\n",
    "\n",
    "        if cows == 4:\n",
    "            print(\"You guessed correctly! It took you \" + str(num_guesses) + \" tries!\")\n",
    "            break\n",
    "            \n",
    "if __name__ == \"__main__\":\n",
    "    cows_and_bulls()"
   ]
  }
 ],
 "metadata": {
  "kernelspec": {
   "display_name": "Python 3",
   "language": "python",
   "name": "python3"
  },
  "language_info": {
   "codemirror_mode": {
    "name": "ipython",
    "version": 3
   },
   "file_extension": ".py",
   "mimetype": "text/x-python",
   "name": "python",
   "nbconvert_exporter": "python",
   "pygments_lexer": "ipython3",
   "version": "3.8.8"
  }
 },
 "nbformat": 4,
 "nbformat_minor": 5
}
