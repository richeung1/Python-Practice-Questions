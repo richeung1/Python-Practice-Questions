{
 "cells": [
  {
   "cell_type": "markdown",
   "id": "e4a5b39e",
   "metadata": {},
   "source": [
    "**Write a program that takes a list of numbers (for example, a = [5, 10, 15, 20, 25]) and makes a new list of only the first and last elements of the given list. For practice, write this code inside a function.**"
   ]
  },
  {
   "cell_type": "code",
   "execution_count": 15,
   "id": "6e9f472f",
   "metadata": {},
   "outputs": [
    {
     "data": {
      "text/plain": [
       "[5, 25]"
      ]
     },
     "execution_count": 15,
     "metadata": {},
     "output_type": "execute_result"
    }
   ],
   "source": [
    "# Creating initial list\n",
    "a = [5, 10, 15, 20, 25]\n",
    "\n",
    "\n",
    "# Creating function to create a new list with the first and last elements of a given list\n",
    "def get_first_last(some_list):\n",
    "    b = []\n",
    "    b.append(some_list[0])\n",
    "    b.append(some_list[-1])\n",
    "    return b\n",
    "\n",
    "\n",
    "# Calling function on list a and printing results\n",
    "get_first_last(a)"
   ]
  },
  {
   "cell_type": "code",
   "execution_count": 16,
   "id": "48614ed2",
   "metadata": {},
   "outputs": [
    {
     "name": "stdout",
     "output_type": "stream",
     "text": [
      "[1, 10]\n"
     ]
    }
   ],
   "source": [
    "# Calling function on a newly created list and printing results\n",
    "print(get_first_last([1, 2, 3, 4, 5, 6, 7, 8, 9, 10]))"
   ]
  }
 ],
 "metadata": {
  "kernelspec": {
   "display_name": "Python 3",
   "language": "python",
   "name": "python3"
  },
  "language_info": {
   "codemirror_mode": {
    "name": "ipython",
    "version": 3
   },
   "file_extension": ".py",
   "mimetype": "text/x-python",
   "name": "python",
   "nbconvert_exporter": "python",
   "pygments_lexer": "ipython3",
   "version": "3.8.8"
  }
 },
 "nbformat": 4,
 "nbformat_minor": 5
}
