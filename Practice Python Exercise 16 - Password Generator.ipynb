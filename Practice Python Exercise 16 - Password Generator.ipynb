{
 "cells": [
  {
   "cell_type": "markdown",
   "id": "3c0291bf",
   "metadata": {},
   "source": [
    "**Write a password generator in Python. Be creative with how you generate passwords - strong passwords have a mix of lowercase letters, uppercase letters, numbers, and symbols. The passwords should be random, generating a new password every time the user asks for a new password. Include your run-time code in a main method.**\n",
    "\n",
    "**Ask the user how strong they want their password to be. For weak passwords, pick a word or two from a list.**"
   ]
  },
  {
   "cell_type": "code",
   "execution_count": 86,
   "id": "d991b52b",
   "metadata": {},
   "outputs": [
    {
     "name": "stdout",
     "output_type": "stream",
     "text": [
      "Final password (shuffled): QbD9&ql\n",
      "Length of Final password: 7\n",
      "Run time: 0.0009942054748535156 seconds\n"
     ]
    }
   ],
   "source": [
    "# Importing random for randomly selecting characters, digits, symbols. \n",
    "# Importing time for code run-time\n",
    "import random\n",
    "import time\n",
    "\n",
    "start = time.time()\n",
    "\n",
    "def random_password():\n",
    "    # Genrating random password of length 4 to 12 from a list of alphabet characters, digits, and symbols\n",
    "    password = []\n",
    "    i = 0\n",
    "    while i <= random.randint(4, 12):\n",
    "        password.append(random.choice(full_list))\n",
    "        i += 1\n",
    "    \n",
    "    # Making sure there is atleast 1 lowercase letter in the password\n",
    "    lower_count = 0\n",
    "    for element in password:\n",
    "        if element in lower:\n",
    "            lower_count += 1    \n",
    "    if lower_count == 0:\n",
    "        password += random.choice(lower)\n",
    "\n",
    "    # Making sure there is atleast 1 uppercase letter in the password\n",
    "    upper_count = 0\n",
    "    for element in password:\n",
    "        if element in upper:\n",
    "            upper_count += 1    \n",
    "    if upper_count == 0:\n",
    "        password += random.choice(upper)\n",
    "    \n",
    "    # Making sure there is atleast 1 digit in the password\n",
    "    digit_count = 0\n",
    "    for element in password:\n",
    "        if element in digit:\n",
    "            digit_count += 1    \n",
    "    if digit_count == 0:\n",
    "        password += random.choice(digit)\n",
    "\n",
    "    # Making sure there is atleast 1 symbol in the password\n",
    "    symbol_count = 0\n",
    "    for element in password:\n",
    "        if element in symbol:\n",
    "            symbol_count += 1    \n",
    "    if symbol_count == 0:\n",
    "        password += random.choice(symbol)\n",
    "\n",
    "\n",
    "    # Getting updated password and shuffling it to make it random\n",
    "    random.shuffle(password)\n",
    "    final_password = \"\".join(password)\n",
    "    print(\"Final password (shuffled): \" + final_password)\n",
    "    print(\"Length of Final password: \" + str(len(final_password)))\n",
    "    \n",
    "\n",
    "# Start of program    \n",
    "if __name__ == \"__main__\":\n",
    "    \n",
    "    # Full list of characters for the random password \n",
    "    full_list = list(\"abcdefghijklmnopqrstuvwxyzABCDEFGHIJKLMNOPQRSTUVWXYZ123456789`~!@#$%^&*()-_+=\")\n",
    "    \n",
    "    # Lists of lower, upper, digit, and symbols to check if they are in the random password\n",
    "    lower = list(\"abcdefghijklmnopqrstuvwxyz\")\n",
    "    upper = list(\"ABCDEFGHIJKLMNOPQRSTUVWXYZ\")\n",
    "    digit = list(\"123456789\")\n",
    "    symbol = list(\"`~!@#$%^&*()-_+=\")\n",
    "    \n",
    "\n",
    "    # Calling random_password() function    \n",
    "    random_password()\n",
    "\n",
    " \n",
    "    # Getting code's run-time\n",
    "    end = time.time()\n",
    "    print(\"Run time: %s seconds\" % (end - start))"
   ]
  },
  {
   "cell_type": "code",
   "execution_count": 93,
   "id": "541eac62",
   "metadata": {},
   "outputs": [
    {
     "name": "stdout",
     "output_type": "stream",
     "text": [
      "Strong or Weak password? weak\n",
      "dogapple\n"
     ]
    }
   ],
   "source": [
    "# Letting user choose if they want a strong or weak password\n",
    "strength = input(\"Strong or Weak password? \").lower()\n",
    "\n",
    "\n",
    "# Weak password consists of words from a list\n",
    "weak_passwords = ['apple', 'ball', 'cat', 'dog', 'egg', 'fish', 'password']\n",
    "w = []\n",
    "\n",
    "\n",
    "# Strong password uses the random_password() function. Weak password consists of 2 words from a list\n",
    "if strength == 'strong':\n",
    "    random_password()\n",
    "else:\n",
    "    w.append(random.choice(weak_passwords))\n",
    "    w.append(random.choice(weak_passwords))\n",
    "    w = ''.join(w)\n",
    "    print(w)"
   ]
  }
 ],
 "metadata": {
  "kernelspec": {
   "display_name": "Python 3",
   "language": "python",
   "name": "python3"
  },
  "language_info": {
   "codemirror_mode": {
    "name": "ipython",
    "version": 3
   },
   "file_extension": ".py",
   "mimetype": "text/x-python",
   "name": "python",
   "nbconvert_exporter": "python",
   "pygments_lexer": "ipython3",
   "version": "3.8.8"
  }
 },
 "nbformat": 4,
 "nbformat_minor": 5
}
